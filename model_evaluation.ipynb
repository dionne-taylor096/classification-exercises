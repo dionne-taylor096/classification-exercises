{
 "cells": [
  {
   "cell_type": "markdown",
   "id": "8743ac82",
   "metadata": {},
   "source": [
    "Given the following confusion matrix, evaluate (by hand) the model's performance.\n",
    "\n",
    "\n",
    "|               | pred dog   | pred cat   |\n",
    "|:------------  |-----------:|-----------:|\n",
    "| actual dog    |         46 |         7  |\n",
    "| actual cat    |         13 |         34 |\n"
   ]
  },
  {
   "cell_type": "code",
   "execution_count": 1,
   "id": "6b4d3b0a",
   "metadata": {},
   "outputs": [
    {
     "data": {
      "image/png": "[encoded data removed]",
      "text/plain": [
       "<Figure size 640x480 with 2 Axes>"
      ]
     },
     "metadata": {},
     "output_type": "display_data"
    }
   ],
   "source": [
    "import numpy as np\n",
    "import pandas as pd\n",
    "import matplotlib.pyplot as plt\n",
    "import seaborn as sns\n",
    "from sklearn.metrics import confusion_matrix\n",
    "\n",
    "# Create the confusion matrix\n",
    "confusion = np.array([[46, 7], [13, 34]])\n",
    "\n",
    "# Convert the confusion matrix to a pandas dataframe\n",
    "confusion_df = pd.DataFrame(confusion, index=['Actual Dog', 'Actual Cat'], columns=['Predicted Dog', 'Predicted Cat'])\n",
    "\n",
    "# Plot the confusion matrix as a heatmap using seaborn\n",
    "sns.heatmap(confusion_df, annot=True, cmap='Blues', fmt='g')\n",
    "\n",
    "# Add labels and title\n",
    "plt.xlabel('Predicted Label')\n",
    "plt.ylabel('True Label')\n",
    "plt.title('Confusion Matrix')\n",
    "\n",
    "# Show the plot\n",
    "plt.show()"
   ]
  },
  {
   "cell_type": "code",
   "execution_count": 2,
   "id": "6da44f52",
   "metadata": {
    "scrolled": true
   },
   "outputs": [
    {
     "data": {
      "text/plain": [
       "array([[46,  7],\n",
       "       [13, 34]])"
      ]
     },
     "execution_count": 2,
     "metadata": {},
     "output_type": "execute_result"
    }
   ],
   "source": [
    "confusion"
   ]
  },
  {
   "cell_type": "markdown",
   "id": "2b981594",
   "metadata": {},
   "source": [
    "> What is a false positive? False positives are cases where the model predicted a positive class (in this case, cat) when the actual class was negative (dog).\n",
    "\n",
    "> The model predicted 7 cases as cat when the actual class was dog. Therefore, the number of false positives is 7."
   ]
  },
  {
   "cell_type": "code",
   "execution_count": null,
   "id": "7fcd9126",
   "metadata": {},
   "outputs": [],
   "source": []
  },
  {
   "cell_type": "markdown",
   "id": "f4f65f2e",
   "metadata": {},
   "source": [
    "> What is a false negative? False negatives are cases where the model predicted a negative class (in this case, dog) when the actual class was positive (cat).\n",
    "\n",
    "> The model predicted 13 cases as dog when the actual class was cat. Therefore, the number of false negatives is 13"
   ]
  },
  {
   "cell_type": "code",
   "execution_count": null,
   "id": "07594fdd",
   "metadata": {},
   "outputs": [],
   "source": []
  },
  {
   "cell_type": "markdown",
   "id": "0df988ad",
   "metadata": {},
   "source": [
    "> How would you describe this model? See the code block below for a description of each evaluation."
   ]
  },
  {
   "cell_type": "code",
   "execution_count": 16,
   "id": "4763710e",
   "metadata": {
    "scrolled": true
   },
   "outputs": [
    {
     "name": "stdout",
     "output_type": "stream",
     "text": [
      "Accuracy: 0.8\n"
     ]
    }
   ],
   "source": [
    "# Calculate the accuracy\n",
    "TP = confusion[1][1]\n",
    "TN = confusion[0][0]\n",
    "FP = confusion[0][1]\n",
    "FN = confusion[1][0]\n",
    "accuracy = (TP + TN) / (TP + TN + FP + FN)\n",
    "\n",
    "# Print the accuracy\n",
    "print(\"Accuracy:\", accuracy)"
   ]
  },
  {
   "cell_type": "markdown",
   "id": "fe2fce73",
   "metadata": {},
   "source": [
    "> The accuracy of the model is (46+34)/(46+7+13+34) = 80%, \n",
    "> which indicates that the model correctly classified 80% of the instances.\n",
    "> The model accuracy is approximately 0.80 or 80%, which indicates that the model performs significantly better than the baseline."
   ]
  },
  {
   "cell_type": "code",
   "execution_count": 21,
   "id": "57d4b2a5",
   "metadata": {
    "scrolled": true
   },
   "outputs": [
    {
     "name": "stdout",
     "output_type": "stream",
     "text": [
      "Baseline Accuracy: 0.46\n"
     ]
    }
   ],
   "source": [
    "baseline_accuracy = 46 / (46 + 47)\n",
    "# Define the number of instances in the most frequent class\n",
    "n_dogs = 46\n",
    "\n",
    "# Define the total number of instances\n",
    "n_total = 46 + 7 + 13 + 34\n",
    "\n",
    "# Calculate the baseline accuracy\n",
    "baseline_accuracy = n_dogs / n_total\n",
    "\n",
    "# Print the baseline accuracy\n",
    "print(\"Baseline Accuracy:\", baseline_accuracy)"
   ]
  },
  {
   "cell_type": "markdown",
   "id": "3e660d1f",
   "metadata": {},
   "source": [
    "> Baseline accuracy, calculated as the proportion of the most frequent class\n",
    "> in the dataset. The most frequent class is dogs, with 46 instances in the actual data.\n",
    "> The baseline accuracy is approximately 46%, which represents the accuracy that can be achieved by a simple classifier that always predicts the most frequent class in the dataset (in this case, dogs)."
   ]
  },
  {
   "cell_type": "code",
   "execution_count": 24,
   "id": "f7b9681e",
   "metadata": {
    "scrolled": true
   },
   "outputs": [
    {
     "name": "stdout",
     "output_type": "stream",
     "text": [
      "Recall: 0.72\n"
     ]
    }
   ],
   "source": [
    "# Calculate the recall\n",
    "TP = confusion[1][1]\n",
    "FN = confusion[1][0]\n",
    "recall = TP / (TP + FN)\n",
    "recall = round(sensitivity, 2)\n",
    "# Print the sensitivity\n",
    "print(\"Recall:\", recall)"
   ]
  },
  {
   "cell_type": "markdown",
   "id": "5eff4bd7",
   "metadata": {},
   "source": [
    "> The recall (senstivity) of the model is (34)/(13+34) = 72%, \n",
    "> which indicates that the model correctly identified 72% of the instances \n",
    "> that actually belonged to the cat class."
   ]
  },
  {
   "cell_type": "code",
   "execution_count": 23,
   "id": "74ba8713",
   "metadata": {
    "scrolled": true
   },
   "outputs": [
    {
     "name": "stdout",
     "output_type": "stream",
     "text": [
      "Baseline Recall: 0.0\n"
     ]
    }
   ],
   "source": [
    "baseline_recall = 0 / 13\n",
    "\n",
    "# Define the number of instances in the most frequent class\n",
    "n_dogs = 46\n",
    "\n",
    "# Define the number of positive instances in the dataset that belong to the most frequent class\n",
    "n_positive_dogs = 0\n",
    "\n",
    "# Define the number of positive instances in the dataset that belong to the other class\n",
    "n_positive_cats = 13\n",
    "\n",
    "# Calculate the baseline recall\n",
    "baseline_recall = n_positive_dogs / (n_positive_dogs + n_positive_cats)\n",
    "\n",
    "# Print the baseline recall\n",
    "print(\"Baseline Recall:\", baseline_recall)"
   ]
  },
  {
   "cell_type": "markdown",
   "id": "a7f96538",
   "metadata": {},
   "source": [
    "> The baseline recall is 0, since the baseline classifier always predicts\n",
    "> the most frequent class (dogs) and does not identify any instances \n",
    "> of the other class. (cats) as positive."
   ]
  },
  {
   "cell_type": "code",
   "execution_count": 20,
   "id": "41cb6580",
   "metadata": {
    "scrolled": true
   },
   "outputs": [
    {
     "name": "stdout",
     "output_type": "stream",
     "text": [
      "Precision: 0.83\n"
     ]
    }
   ],
   "source": [
    "# Calculate the precision\n",
    "TP = confusion[1][1]\n",
    "FN = confusion[1][0]\n",
    "precision = TP / (TP + FP)\n",
    "precision = round(precision, 2)\n",
    "# Print the precision\n",
    "print(\"Precision:\", precision)"
   ]
  },
  {
   "cell_type": "markdown",
   "id": "395a3ff4",
   "metadata": {},
   "source": [
    "> The precision of the model is (34)/(7+34) = 83%, which indicates \n",
    "> that when the model predicted cat, it was correct 83% of the time."
   ]
  },
  {
   "cell_type": "code",
   "execution_count": 26,
   "id": "efa04a81",
   "metadata": {
    "scrolled": true
   },
   "outputs": [
    {
     "name": "stdout",
     "output_type": "stream",
     "text": [
      "Baseline Precision: 0.8679245283018868\n"
     ]
    }
   ],
   "source": [
    "baseline_precision = 46 / (46 + 7)\n",
    "# Define the number of instances predicted as positive by the baseline classifier\n",
    "n_predicted_dogs = 46 + 7\n",
    "\n",
    "# Define the number of instances predicted as positive by the baseline classifier that actually belong to the most frequent class\n",
    "n_true_dogs = 46\n",
    "\n",
    "# Calculate the baseline precision\n",
    "baseline_precision = n_true_dogs / n_predicted_dogs\n",
    "\n",
    "# Print the baseline precision\n",
    "print(\"Baseline Precision:\", baseline_precision)"
   ]
  },
  {
   "cell_type": "markdown",
   "id": "f555891e",
   "metadata": {},
   "source": [
    "> The baseline precision is approximately 87%, which represents the precision \n",
    "> that can be achieved by a simple classifier that always predicts the most \n",
    "> frequent class in the dataset (in this case, dogs)"
   ]
  },
  {
   "cell_type": "code",
   "execution_count": 19,
   "id": "dbecdfd1",
   "metadata": {},
   "outputs": [
    {
     "name": "stdout",
     "output_type": "stream",
     "text": [
      "False Positive Rate (FPR): 0.13\n",
      "False Negative Rate (FNR): 0.28\n"
     ]
    }
   ],
   "source": [
    "# Calculate the false positive rate (FPR)\n",
    "FP = confusion[0][1]\n",
    "TN = confusion[0][0]\n",
    "FPR = FP / (FP + TN)\n",
    "FPR = round(FPR, 2)\n",
    "\n",
    "# Calculate the false negative rate (FNR)\n",
    "FN = confusion[1][0]\n",
    "TP = confusion[1][1]\n",
    "FNR = FN / (FN + TP)\n",
    "FNR = round(FNR, 2)\n",
    "\n",
    "# Print the FPR and FNR\n",
    "print(\"False Positive Rate (FPR):\", FPR)\n",
    "print(\"False Negative Rate (FNR):\", FNR)"
   ]
  },
  {
   "cell_type": "markdown",
   "id": "2a3a7135",
   "metadata": {},
   "source": [
    "> The false positive rate (FPR) of the model is (7)/(46+7) = 13%, \n",
    "> which indicates that the model falsely predicted cat 13% of the time \n",
    "> when the actual class was dog."
   ]
  },
  {
   "cell_type": "markdown",
   "id": "3aa610a3",
   "metadata": {},
   "source": [
    "> Wrap-up: How would you describe this model?\n",
    "\n",
    "\n",
    "> Overall, this model seems to perform reasonably well, with a relatively high accuracy \n",
    "> and precision. However, the FNR of 28% indicates that the model may miss a significant \n",
    "> number of cat instances,"
   ]
  },
  {
   "cell_type": "code",
   "execution_count": 29,
   "id": "c88422d1",
   "metadata": {},
   "outputs": [],
   "source": [
    "from sklearn.metrics import confusion_matrix"
   ]
  },
  {
   "cell_type": "code",
   "execution_count": 37,
   "id": "1406c133",
   "metadata": {},
   "outputs": [
    {
     "name": "stdout",
     "output_type": "stream",
     "text": [
      "        actual     model1     model2     model3\n",
      "0    No Defect  No Defect     Defect  No Defect\n",
      "1    No Defect  No Defect     Defect     Defect\n",
      "2    No Defect  No Defect     Defect  No Defect\n",
      "3    No Defect     Defect     Defect     Defect\n",
      "4    No Defect  No Defect     Defect  No Defect\n",
      "..         ...        ...        ...        ...\n",
      "195  No Defect  No Defect     Defect     Defect\n",
      "196     Defect     Defect  No Defect  No Defect\n",
      "197  No Defect  No Defect  No Defect  No Defect\n",
      "198  No Defect  No Defect     Defect     Defect\n",
      "199  No Defect  No Defect  No Defect     Defect\n",
      "\n",
      "[200 rows x 4 columns]\n"
     ]
    }
   ],
   "source": [
    "import pandas as pd\n",
    "\n",
    "# Import the dataset\n",
    "data = pd.read_csv('c3.csv')\n",
    "print(data)"
   ]
  },
  {
   "cell_type": "code",
   "execution_count": 39,
   "id": "7cf2ae6b",
   "metadata": {},
   "outputs": [],
   "source": [
    "# separate the actual labels from the predicted labels for each model\n",
    "actual = data['actual']\n",
    "model1 = data['model1']\n",
    "model2 = data['model2']\n",
    "model3 = data['model3']"
   ]
  },
  {
   "cell_type": "code",
   "execution_count": 41,
   "id": "6d7e3e0b",
   "metadata": {},
   "outputs": [],
   "source": [
    "# calculate sensitivity and recall for each model\n",
    "sensitivity1, recall1 = calculate_sensitivity_recall(actual, model1)\n",
    "sensitivity2, recall2 = calculate_sensitivity_recall(actual, model2)\n",
    "sensitivity3, recall3 = calculate_sensitivity_recall(actual, model3)"
   ]
  },
  {
   "cell_type": "code",
   "execution_count": 42,
   "id": "f77fbab3",
   "metadata": {},
   "outputs": [
    {
     "name": "stdout",
     "output_type": "stream",
     "text": [
      "Model 1 sensitivity: 0.9891304347826086\n",
      "Model 1 recall: 0.9578947368421052\n",
      "Model 2 sensitivity: 0.5597826086956522\n",
      "Model 2 recall: 0.9363636363636364\n",
      "Model 3 sensitivity: 0.532608695652174\n",
      "Model 3 recall: 0.9702970297029703\n"
     ]
    }
   ],
   "source": [
    "# Print the Sensitity/Recall for each Model\n",
    "print('Model 1 sensitivity:', sensitivity1)\n",
    "print('Model 1 recall:', recall1)\n",
    "print('Model 2 sensitivity:', sensitivity2)\n",
    "print('Model 2 recall:', recall2)\n",
    "print('Model 3 sensitivity:', sensitivity3)\n",
    "print('Model 3 recall:', recall3)"
   ]
  },
  {
   "cell_type": "markdown",
   "id": "67433411",
   "metadata": {},
   "source": [
    "> Sensitivity and recall are important metrics to evaluate the performance of a binary \n",
    "> classification model in identifying positive instances of a target variable. \n",
    "> Sensitivity is concerned only with the true positives and false negatives, \n",
    "> while recall also takes into account false positives."
   ]
  },
  {
   "cell_type": "code",
   "execution_count": 44,
   "id": "e43c51a2",
   "metadata": {},
   "outputs": [],
   "source": [
    "# Define a function to calculate precision\n",
    "def precision(tp, fp):\n",
    "    return tp / (tp + fp)"
   ]
  },
  {
   "cell_type": "code",
   "execution_count": 45,
   "id": "114ecde5",
   "metadata": {},
   "outputs": [],
   "source": [
    "# Calculate precision for each model\n",
    "tp_model1 = len(data[(data[\"actual\"] == \"Defect\") & (data[\"model1\"] == \"Defect\")])\n",
    "fp_model1 = len(data[(data[\"actual\"] == \"No Defect\") & (data[\"model1\"] == \"Defect\")])\n",
    "precision_model1 = precision(tp_model1, fp_model1)\n",
    "\n",
    "tp_model2 = len(data[(data[\"actual\"] == \"Defect\") & (data[\"model2\"] == \"Defect\")])\n",
    "fp_model2 = len(data[(data[\"actual\"] == \"No Defect\") & (data[\"model2\"] == \"Defect\")])\n",
    "precision_model2 = precision(tp_model2, fp_model2)\n",
    "\n",
    "tp_model3 = len(data[(data[\"actual\"] == \"Defect\") & (data[\"model3\"] == \"Defect\")])\n",
    "fp_model3 = len(data[(data[\"actual\"] == \"No Defect\") & (data[\"model3\"] == \"Defect\")])\n",
    "precision_model3 = precision(tp_model3, fp_model3)"
   ]
  },
  {
   "cell_type": "code",
   "execution_count": 46,
   "id": "533a9392",
   "metadata": {},
   "outputs": [
    {
     "name": "stdout",
     "output_type": "stream",
     "text": [
      "Precision for Model 1: 0.80\n",
      "Precision for Model 2: 0.10\n",
      "Precision for Model 3: 0.13\n"
     ]
    }
   ],
   "source": [
    "# Print precision for each model\n",
    "print(\"Precision for Model 1: {:.2f}\".format(precision_model1))\n",
    "print(\"Precision for Model 2: {:.2f}\".format(precision_model2))\n",
    "print(\"Precision for Model 3: {:.2f}\".format(precision_model3))"
   ]
  },
  {
   "cell_type": "code",
   "execution_count": 48,
   "id": "1101ef75",
   "metadata": {
    "scrolled": false
   },
   "outputs": [
    {
     "name": "stdout",
     "output_type": "stream",
     "text": [
      "     actual model1 model2 model3 model4\n",
      "0       cat    cat    dog    cat    dog\n",
      "1       dog    dog    cat    cat    dog\n",
      "2       dog    cat    cat    cat    dog\n",
      "3       dog    dog    dog    cat    dog\n",
      "4       cat    cat    cat    dog    dog\n",
      "...     ...    ...    ...    ...    ...\n",
      "4995    dog    dog    dog    dog    dog\n",
      "4996    dog    dog    cat    cat    dog\n",
      "4997    dog    cat    cat    dog    dog\n",
      "4998    cat    cat    cat    cat    dog\n",
      "4999    dog    dog    dog    dog    dog\n",
      "\n",
      "[5000 rows x 5 columns]\n"
     ]
    }
   ],
   "source": [
    "import pandas as pd\n",
    "\n",
    "# Import the dataset\n",
    "data = pd.read_csv('gives_you_paws.csv')\n",
    "print(data)"
   ]
  },
  {
   "cell_type": "code",
   "execution_count": 49,
   "id": "2ae8f075",
   "metadata": {
    "scrolled": false
   },
   "outputs": [
    {
     "name": "stdout",
     "output_type": "stream",
     "text": [
      "[['cat' 'cat' 'dog' 'cat' 'dog']\n",
      " ['dog' 'dog' 'cat' 'cat' 'dog']\n",
      " ['dog' 'cat' 'cat' 'cat' 'dog']\n",
      " ...\n",
      " ['dog' 'cat' 'cat' 'dog' 'dog']\n",
      " ['cat' 'cat' 'cat' 'cat' 'dog']\n",
      " ['dog' 'dog' 'dog' 'dog' 'dog']]\n"
     ]
    }
   ],
   "source": [
    "# Extract the actual labels and predicted labels from the DataFrame\n",
    "actual_labels = data.index\n",
    "predicted_labels = data.columns.values\n",
    "\n",
    "# Create the confusion matrix\n",
    "conf_matrix = data.values\n",
    "\n",
    "# Print the confusion matrix\n",
    "print(conf_matrix)"
   ]
  },
  {
   "cell_type": "code",
   "execution_count": 57,
   "id": "d757dc8d",
   "metadata": {
    "scrolled": true
   },
   "outputs": [
    {
     "data": {
      "text/plain": [
       "array([[1423,  323],\n",
       "       [ 640, 2614]])"
      ]
     },
     "execution_count": 57,
     "metadata": {},
     "output_type": "execute_result"
    }
   ],
   "source": [
    "conf_matrix"
   ]
  },
  {
   "cell_type": "code",
   "execution_count": 59,
   "id": "1462a2e4",
   "metadata": {},
   "outputs": [
    {
     "name": "stdout",
     "output_type": "stream",
     "text": [
      "[[1423  323]\n",
      " [ 640 2614]]\n"
     ]
    }
   ],
   "source": [
    "# Define a dictionary to map string labels to numerical labels\n",
    "label_map = {'cat': 0, 'dog': 1}\n",
    "\n",
    "# Convert the actual and predicted labels to numerical labels\n",
    "actual_labels = data['actual'].map(label_map)\n",
    "predicted_labels = data['model1'].map(label_map)\n",
    "\n",
    "# Create the confusion matrix\n",
    "conf_matrix1 = confusion_matrix(actual_labels, predicted_labels)\n",
    "\n",
    "# Print the confusion matrix\n",
    "print(conf_matrix1)"
   ]
  },
  {
   "cell_type": "code",
   "execution_count": 60,
   "id": "d0ea2e79",
   "metadata": {
    "scrolled": true
   },
   "outputs": [
    {
     "data": {
      "image/png": "[encoded data removed]",
      "text/plain": [
       "<Figure size 640x480 with 2 Axes>"
      ]
     },
     "metadata": {},
     "output_type": "display_data"
    }
   ],
   "source": [
    "# Plot the confusion matrix as a heatmap using seaborn\n",
    "sns.heatmap(conf_matrix1, annot=True, cmap='Blues', fmt='g')\n",
    "\n",
    "# Add labels and title\n",
    "plt.xlabel('Predicted Label')\n",
    "plt.ylabel('True Label')\n",
    "plt.title('Confusion Matrix')\n",
    "\n",
    "# Show the plot\n",
    "plt.show()"
   ]
  },
  {
   "cell_type": "code",
   "execution_count": 55,
   "id": "eb58b43b",
   "metadata": {},
   "outputs": [
    {
     "name": "stdout",
     "output_type": "stream",
     "text": [
      "[[1555  191]\n",
      " [1657 1597]]\n"
     ]
    }
   ],
   "source": [
    "# Convert the actual and predicted labels to numerical labels\n",
    "actual_labels = data['actual'].map(label_map)\n",
    "predicted_labels = data['model2'].map(label_map)\n",
    "\n",
    "# Create the confusion matrix\n",
    "conf_matrix2 = confusion_matrix(actual_labels, predicted_labels)\n",
    "\n",
    "# Print the confusion matrix\n",
    "print(conf_matrix2)"
   ]
  },
  {
   "cell_type": "code",
   "execution_count": 56,
   "id": "db5d0089",
   "metadata": {},
   "outputs": [
    {
     "data": {
      "image/png": "[encoded data removed]",
      "text/plain": [
       "<Figure size 640x480 with 2 Axes>"
      ]
     },
     "metadata": {},
     "output_type": "display_data"
    }
   ],
   "source": [
    "# Plot the confusion matrix as a heatmap using seaborn\n",
    "sns.heatmap(conf_matrix2, annot=True, cmap='Blues', fmt='g')\n",
    "\n",
    "# Add labels and title\n",
    "plt.xlabel('Predicted Label')\n",
    "plt.ylabel('True Label')\n",
    "plt.title('Confusion Matrix')\n",
    "\n",
    "# Show the plot\n",
    "plt.show()"
   ]
  },
  {
   "cell_type": "code",
   "execution_count": 61,
   "id": "46b50200",
   "metadata": {},
   "outputs": [
    {
     "name": "stdout",
     "output_type": "stream",
     "text": [
      "[[ 893  853]\n",
      " [1599 1655]]\n"
     ]
    }
   ],
   "source": [
    "# Convert the actual and predicted labels to numerical labels\n",
    "actual_labels = data['actual'].map(label_map)\n",
    "predicted_labels = data['model3'].map(label_map)\n",
    "\n",
    "# Create the confusion matrix\n",
    "conf_matrix3 = confusion_matrix(actual_labels, predicted_labels)\n",
    "\n",
    "# Print the confusion matrix\n",
    "print(conf_matrix3)"
   ]
  },
  {
   "cell_type": "code",
   "execution_count": 62,
   "id": "f6ce3708",
   "metadata": {},
   "outputs": [
    {
     "data": {
      "image/png": "[encoded data removed]",
      "text/plain": [
       "<Figure size 640x480 with 2 Axes>"
      ]
     },
     "metadata": {},
     "output_type": "display_data"
    }
   ],
   "source": [
    "# Plot the confusion matrix as a heatmap using seaborn\n",
    "sns.heatmap(conf_matrix3, annot=True, cmap='Blues', fmt='g')\n",
    "\n",
    "# Add labels and title\n",
    "plt.xlabel('Predicted Label')\n",
    "plt.ylabel('True Label')\n",
    "plt.title('Confusion Matrix')\n",
    "\n",
    "# Show the plot\n",
    "plt.show()"
   ]
  },
  {
   "cell_type": "code",
   "execution_count": 64,
   "id": "01b3ce79",
   "metadata": {},
   "outputs": [
    {
     "name": "stdout",
     "output_type": "stream",
     "text": [
      "[[ 893  853]\n",
      " [1599 1655]]\n"
     ]
    }
   ],
   "source": [
    "# Convert the actual and predicted labels to numerical labels\n",
    "actual_labels = data['actual'].map(label_map)\n",
    "predicted_labels = data['model3'].map(label_map)\n",
    "\n",
    "# Create the confusion matrix\n",
    "conf_matrix4 = confusion_matrix(actual_labels, predicted_labels)\n",
    "\n",
    "# Print the confusion matrix\n",
    "print(conf_matrix4)"
   ]
  },
  {
   "cell_type": "code",
   "execution_count": 65,
   "id": "68134693",
   "metadata": {},
   "outputs": [
    {
     "data": {
      "image/png": "[encoded data removed]",
      "text/plain": [
       "<Figure size 640x480 with 2 Axes>"
      ]
     },
     "metadata": {},
     "output_type": "display_data"
    }
   ],
   "source": [
    "# Plot the confusion matrix as a heatmap using seaborn\n",
    "sns.heatmap(conf_matrix4, annot=True, cmap='Blues', fmt='g')\n",
    "\n",
    "# Add labels and title\n",
    "plt.xlabel('Predicted Label')\n",
    "plt.ylabel('True Label')\n",
    "plt.title('Confusion Matrix')\n",
    "\n",
    "# Show the plot\n",
    "plt.show()"
   ]
  },
  {
   "cell_type": "code",
   "execution_count": null,
   "id": "07cd1a23",
   "metadata": {},
   "outputs": [],
   "source": []
  }
 ],
 "metadata": {
  "kernelspec": {
   "display_name": "Python 3 (ipykernel)",
   "language": "python",
   "name": "python3"
  },
  "language_info": {
   "codemirror_mode": {
    "name": "ipython",
    "version": 3
   },
   "file_extension": ".py",
   "mimetype": "text/x-python",
   "name": "python",
   "nbconvert_exporter": "python",
   "pygments_lexer": "ipython3",
   "version": "3.9.13"
  }
 },
 "nbformat": 4,
 "nbformat_minor": 5
}
